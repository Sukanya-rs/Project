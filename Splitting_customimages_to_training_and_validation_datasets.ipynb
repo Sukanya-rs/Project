{
  "nbformat": 4,
  "nbformat_minor": 0,
  "metadata": {
    "colab": {
      "name": "Splitting_customimages_to_training_and_validation_datasets.ipynb",
      "provenance": [],
      "collapsed_sections": [],
      "authorship_tag": "ABX9TyOslKOBNOI/og+jk4vnNGJq",
      "include_colab_link": true
    },
    "kernelspec": {
      "name": "python3",
      "display_name": "Python 3"
    },
    "language_info": {
      "name": "python"
    }
  },
  "cells": [
    {
      "cell_type": "markdown",
      "metadata": {
        "id": "view-in-github",
        "colab_type": "text"
      },
      "source": [
        "<a href=\"https://colab.research.google.com/github/Sukanya-rs/Project/blob/main/Splitting_customimages_to_training_and_validation_datasets.ipynb\" target=\"_parent\"><img src=\"https://colab.research.google.com/assets/colab-badge.svg\" alt=\"Open In Colab\"/></a>"
      ]
    },
    {
      "cell_type": "code",
      "source": [
        "from google.colab import drive\n",
        "drive.mount('/content/drive')"
      ],
      "metadata": {
        "colab": {
          "base_uri": "https://localhost:8080/"
        },
        "id": "oGKBGH7f4Gcl",
        "outputId": "9e676ed5-c58f-41fc-f068-09181186303b"
      },
      "execution_count": null,
      "outputs": [
        {
          "output_type": "stream",
          "name": "stdout",
          "text": [
            "Mounted at /content/drive\n"
          ]
        }
      ]
    },
    {
      "cell_type": "code",
      "source": [
        "import os\n",
        "for dir,subdir,files in os.walk('/content/drive/MyDrive/Crop_images'):\n",
        "    print (dir,' ', str(len(files)))"
      ],
      "metadata": {
        "colab": {
          "base_uri": "https://localhost:8080/"
        },
        "id": "qsjhg73X7HAX",
        "outputId": "f8882d11-8cce-49dc-8eb0-962f6e7e4ee4"
      },
      "execution_count": null,
      "outputs": [
        {
          "output_type": "stream",
          "name": "stdout",
          "text": [
            "/content/drive/MyDrive/Crop_images   0\n",
            "/content/drive/MyDrive/Crop_images/.ipynb_checkpoints   0\n",
            "/content/drive/MyDrive/Crop_images/jute   40\n",
            "/content/drive/MyDrive/Crop_images/wheat   41\n",
            "/content/drive/MyDrive/Crop_images/sugarcane   40\n",
            "/content/drive/MyDrive/Crop_images/rice   40\n",
            "/content/drive/MyDrive/Crop_images/maize   40\n"
          ]
        }
      ]
    },
    {
      "cell_type": "code",
      "source": [
        "import tensorflow as tf\n",
        "from tensorflow import keras\n",
        "from tensorflow.keras import layers\n",
        "from tensorflow.keras.preprocessing.image import ImageDataGenerator"
      ],
      "metadata": {
        "id": "PUvkEetL3FXR"
      },
      "execution_count": null,
      "outputs": []
    },
    {
      "cell_type": "code",
      "source": [
        "img_height = 28\n",
        "img_width = 28\n",
        "batch_size = 2\n",
        "\n",
        "model = keras.Sequential([\n",
        "  layers.Input((28,28,1)),\n",
        "  layers.Conv2D(16,3,padding='same'),\n",
        "  layers.Conv2D(32,3,padding='same'),\n",
        "  layers.MaxPooling2D(),\n",
        "  layers.Flatten(),\n",
        "  layers.Dense(10),             \n",
        "])"
      ],
      "metadata": {
        "id": "N-RnLfnR3Uwm"
      },
      "execution_count": null,
      "outputs": []
    },
    {
      "cell_type": "code",
      "source": [
        "ds_training = tf.keras.preprocessing.image_dataset_from_directory(\n",
        "    '/content/drive/MyDrive/Crop_images',\n",
        "    labels='inferred',\n",
        "    label_mode = 'int',\n",
        "    #class_names = ['0','1',..]\n",
        "    color_mode='grayscale',\n",
        "    batch_size = batch_size,\n",
        "    image_size=(img_height, img_width),\n",
        "    shuffle=True,\n",
        "    seed=123,\n",
        "    validation_split=0.1,\n",
        "    subset=\"training\",\n",
        ")\n",
        "\n",
        "ds_test = tf.keras.preprocessing.image_dataset_from_directory(\n",
        "    '/content/drive/MyDrive/Crop_images',\n",
        "    labels='inferred',\n",
        "    label_mode = 'int',\n",
        "    #class_names = ['0','1',..]\n",
        "    color_mode='grayscale',\n",
        "    batch_size = batch_size,\n",
        "    image_size=(img_height, img_width),\n",
        "    shuffle=True,\n",
        "    seed=123,\n",
        "    validation_split=0.1,\n",
        "    subset=\"validation\",\n",
        ")"
      ],
      "metadata": {
        "colab": {
          "base_uri": "https://localhost:8080/"
        },
        "id": "-asYx9Br31_y",
        "outputId": "79fa2a4f-7b11-4225-b55e-ad76213ac6ba"
      },
      "execution_count": null,
      "outputs": [
        {
          "output_type": "stream",
          "name": "stdout",
          "text": [
            "Found 201 files belonging to 6 classes.\n",
            "Using 181 files for training.\n",
            "Found 201 files belonging to 6 classes.\n",
            "Using 20 files for validation.\n"
          ]
        }
      ]
    }
  ]
}